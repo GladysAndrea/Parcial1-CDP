{
 "cells": [
  {
   "cell_type": "markdown",
   "metadata": {},
   "source": [
    "# _Parcial_\n",
    "### ***Gladys Andrea Rodríguez Guerrero***\n",
    "###### 09/03/2021\n",
    "###### Ciencias de datos en Python"
   ]
  },
  {
   "cell_type": "markdown",
   "metadata": {},
   "source": [
    "1. Se importa la libreria random"
   ]
  },
  {
   "cell_type": "code",
   "execution_count": 18,
   "metadata": {},
   "outputs": [],
   "source": [
    "import random as rd"
   ]
  },
  {
   "cell_type": "markdown",
   "metadata": {},
   "source": [
    "2. Se importa la libreria para validar texto"
   ]
  },
  {
   "cell_type": "code",
   "execution_count": 19,
   "metadata": {},
   "outputs": [],
   "source": [
    "import re"
   ]
  },
  {
   "cell_type": "markdown",
   "metadata": {},
   "source": [
    "3. Ejecutar código"
   ]
  },
  {
   "cell_type": "code",
   "execution_count": 22,
   "metadata": {},
   "outputs": [
    {
     "name": "stdout",
     "output_type": "stream",
     "text": [
      "-----------     Menú     -----------\n",
      "Para generar código ingrese Enter   \n",
      "Para salir ingrese exit             \n",
      "------------------------------------\n",
      "\n"
     ]
    },
    {
     "name": "stdin",
     "output_type": "stream",
     "text": [
      "Ingrese la operación:  \n"
     ]
    },
    {
     "name": "stdout",
     "output_type": "stream",
     "text": [
      "-----------     Menú     -----------\n",
      "Para generar código ingrese Enter   \n",
      "Para salir ingrese exit             \n",
      "------------------------------------\n",
      "\n"
     ]
    },
    {
     "name": "stdin",
     "output_type": "stream",
     "text": [
      "Ingrese la operación:  \n"
     ]
    },
    {
     "name": "stdout",
     "output_type": "stream",
     "text": [
      "-----------     Menú     -----------\n",
      "Para generar código ingrese Enter   \n",
      "Para salir ingrese exit             \n",
      "------------------------------------\n",
      "\n"
     ]
    },
    {
     "name": "stdin",
     "output_type": "stream",
     "text": [
      "Ingrese la operación:  \n"
     ]
    },
    {
     "name": "stdout",
     "output_type": "stream",
     "text": [
      "-----------     Menú     -----------\n",
      "Para generar código ingrese Enter   \n",
      "Para salir ingrese exit             \n",
      "------------------------------------\n",
      "\n"
     ]
    },
    {
     "name": "stdin",
     "output_type": "stream",
     "text": [
      "Ingrese la operación:  \n"
     ]
    },
    {
     "name": "stdout",
     "output_type": "stream",
     "text": [
      "-----------     Menú     -----------\n",
      "Para generar código ingrese Enter   \n",
      "Para salir ingrese exit             \n",
      "------------------------------------\n",
      "\n"
     ]
    },
    {
     "name": "stdin",
     "output_type": "stream",
     "text": [
      "Ingrese la operación:  exit\n"
     ]
    },
    {
     "name": "stdout",
     "output_type": "stream",
     "text": [
      "\n",
      "Finalizando el programa...\n",
      "\n",
      "La lista de los códigos VÁLIDOS es:  ['G4J6W4H0D6C2Q9', 'M2N9V6T2P3Y9W2', 'G7F5R8X8P4V0Z1', 'E8D8P4Y9M3T0H1']\n",
      "La lista de las sumas VÁLIDAS es:  [31, 33, 33, 33]\n",
      "Diccionario de códigos:  {31: 'G4J6W4H0D6C2Q9', 33: 'E8D8P4Y9M3T0H1'}\n",
      "\n",
      "La lista de los códigos NO VÁLIDOS es:  ['H8Q6S4M9Ñ7Y0A1', 'F1H4N2B7M7V2C5', 'R1V0G5L9B6U3F0']\n",
      "La lista de las sumas NO VÁLIDAS es:  [35, 28, 24]\n",
      "Termino el programa\n"
     ]
    }
   ],
   "source": [
    "## Variables que controlan los while\n",
    "continuar = True\n",
    "valSuma = True\n",
    "valCod = True\n",
    "\n",
    "## Creacion de lista Codigo y Suma Validos\n",
    "listaCodV = []\n",
    "listaSumV = []\n",
    "## Creacion de lista Codigo y Suma  NO Validos\n",
    "listaCodNV = []\n",
    "listaSumNV = []\n",
    "\n",
    "## Creacion de diccionario\n",
    "dicVal = dict()\n",
    "\n",
    "try:\n",
    "    while(continuar):\n",
    "        print(\"-----------     Menú     -----------\")\n",
    "        print(\"Para generar código ingrese Enter   \")\n",
    "        print(\"Para salir ingrese exit             \")\n",
    "        print(\"------------------------------------\")\n",
    "        print(\"\")\n",
    "        accion = str(input(\"Ingrese la operación: \"))\n",
    "        \n",
    "\n",
    "        if (accion.lower() == \"exit\"):\n",
    "            continuar = False\n",
    "            print(\"\")\n",
    "            print('Finalizando el programa...')\n",
    "        elif(accion.lower() == \"\"):\n",
    "             while((valSuma == True) and (valCod == True)):\n",
    "                    ## ---- Creacion de lista Letras ----\n",
    "                    letras = ['A','B','C','D','E','F','G','H','I','J','K','L','M','N','Ñ','O','P','Q','R','S','T','U','V','W','X','Y','Z']\n",
    "                    listaL = rd.sample(letras,7)\n",
    "\n",
    "                    ##print(listaL)\n",
    "\n",
    "                    ## ---- Creacion de lista Numeros ----\n",
    "                    listaN = [rd.randint(0,9) for _ in range(7)]\n",
    "                    ##print(listaN)\n",
    "                    listaStr = [str(n) for n in listaN]\n",
    "                    ##print(listaStr)\n",
    "\n",
    "                    ## ---- Suma de Numeros ----\n",
    "                    suma = 0\n",
    "                    for n in listaN:\n",
    "                        suma += n\n",
    "                    ##print(suma)\n",
    "\n",
    "                    ## ---- Validacion de numeros mayor a 30 ----\n",
    "\n",
    "                    if(suma >= 30):\n",
    "                        valSuma = True\n",
    "                    else:\n",
    "                        valSuma = False\n",
    "\n",
    "                    ##print(valSuma)\n",
    "\n",
    "                    ## ---- Integracion de listas Letras y Numeros ----\n",
    "                    listaL.extend(listaStr)\n",
    "                    ##listaL\n",
    "\n",
    "                    ## ---- Creación de Código Aleatorio----\n",
    "                    listaNueva = []\n",
    "                    codStr = ''\n",
    "                    for i in range(0,7):\n",
    "                        if(i <= 7):\n",
    "                            listaNueva.append(listaL[i])\n",
    "                        if(i <= 7):\n",
    "                            listaNueva.append(listaStr[i])\n",
    "                    ##print(listaNueva)\n",
    "\n",
    "                    codStr = ''.join(listaNueva)\n",
    "                    ##print(codStr)\n",
    "\n",
    "                    ## ---- Validacion de Codigo ----\n",
    "\n",
    "                    patron ='^([A-Z][0-9]){7}$'\n",
    "                    x =  re.search(patron, codStr)\n",
    "\n",
    "                    if(x):\n",
    "                        valCod = True\n",
    "                    else:\n",
    "                        valCod = False\n",
    "                    ##print(valCod)\n",
    "\n",
    "                    if((valSuma == False) or (valCod == False)):\n",
    "                        valSuma = True\n",
    "                        valCod = True\n",
    "                        listaCodNV.append(str(codStr))\n",
    "                        listaSumNV.append(suma)\n",
    "                    else:\n",
    "                        listaCodV.append(str(codStr))\n",
    "                        listaSumV.append(suma)\n",
    "                        break\n",
    "                \n",
    "        else:\n",
    "            print(\"\")\n",
    "            print(\"Ingrese Enter o Exit\")\n",
    "\n",
    "except(ValueError):\n",
    "    print(\"\")\n",
    "    print(\"Datos no validos\")\n",
    "finally:\n",
    "    ## Creacion de Diccionario\n",
    "    print(\"\")\n",
    "    \n",
    "    for i in range(len(listaSumV)):\n",
    "        dicVal[listaSumV[i]] = listaCodV[i]\n",
    "\n",
    "    print(\"La lista de los códigos VÁLIDOS es: \",listaCodV)\n",
    "    print(\"La lista de las sumas VÁLIDAS es: \",listaSumV)\n",
    "    print(\"Diccionario de códigos: \",dicVal)\n",
    "    print(\"\")\n",
    "    print(\"La lista de los códigos NO VÁLIDOS es: \",listaCodNV)\n",
    "    print(\"La lista de las sumas NO VÁLIDAS es: \",listaSumNV)\n",
    "    print(\"Termino el programa\")"
   ]
  },
  {
   "cell_type": "markdown",
   "metadata": {},
   "source": [
    "### Sección de Prueba"
   ]
  },
  {
   "cell_type": "code",
   "execution_count": 124,
   "metadata": {},
   "outputs": [
    {
     "name": "stdout",
     "output_type": "stream",
     "text": [
      "----------------     Menú     ----------------\n",
      "Para generar código ingrese Enter             \n",
      "Para salir ingrese                        exit\n",
      "----------------------------------------------\n",
      "\n"
     ]
    },
    {
     "name": "stdin",
     "output_type": "stream",
     "text": [
      "Ingrese la operación:  \n"
     ]
    },
    {
     "name": "stdout",
     "output_type": "stream",
     "text": [
      "Seguir\n",
      "----------------     Menú     ----------------\n",
      "Para generar código ingrese Enter             \n",
      "Para salir ingrese                        exit\n",
      "----------------------------------------------\n",
      "\n"
     ]
    },
    {
     "name": "stdin",
     "output_type": "stream",
     "text": [
      "Ingrese la operación:  exiy\n"
     ]
    },
    {
     "name": "stdout",
     "output_type": "stream",
     "text": [
      "Ingrese Enter o Exit\n",
      "----------------     Menú     ----------------\n",
      "Para generar código ingrese Enter             \n",
      "Para salir ingrese                        exit\n",
      "----------------------------------------------\n",
      "\n"
     ]
    },
    {
     "name": "stdin",
     "output_type": "stream",
     "text": [
      "Ingrese la operación:  exit\n"
     ]
    },
    {
     "name": "stdout",
     "output_type": "stream",
     "text": [
      "Finalizando el programa\n",
      "Termino el programa\n"
     ]
    }
   ],
   "source": [
    "continuar = True\n",
    "try:\n",
    "    while(continuar):\n",
    "        print(\"----------------     Menú     ----------------\")\n",
    "        print(\"Para generar código ingrese Enter             \")\n",
    "        print(\"Para salir ingrese                        exit\")\n",
    "        print(\"----------------------------------------------\")\n",
    "        print(\"\")\n",
    "        accion = str(input(\"Ingrese la operación: \"))\n",
    "        \n",
    "\n",
    "        if ((accion.lower() == \"exit\") or (accion == \"exit\")):\n",
    "            continuar = False\n",
    "            print('Finalizando el programa')\n",
    "        elif(accion.lower() == \"\"):\n",
    "             print(\"Seguir\")\n",
    "        else:\n",
    "            print(\"Ingrese Enter o Exit\")\n",
    "\n",
    "except(ValueError):\n",
    "    print(\"\")\n",
    "    print(\"Datos no validos\")\n",
    "finally:\n",
    "    print(\"Termino el programa\")"
   ]
  },
  {
   "cell_type": "code",
   "execution_count": null,
   "metadata": {},
   "outputs": [],
   "source": [
    "def sumarLista(listaN):\n",
    "    suma = 0\n",
    "    for n in listaN:\n",
    "        suma += n\n",
    "    \n",
    "    if(suma <= 30):\n",
    "        return True, suma\n",
    "    else:\n",
    "        return False, suma"
   ]
  },
  {
   "cell_type": "code",
   "execution_count": 69,
   "metadata": {},
   "outputs": [
    {
     "data": {
      "text/plain": [
       "'P1XP35GG35'"
      ]
     },
     "execution_count": 69,
     "metadata": {},
     "output_type": "execute_result"
    }
   ],
   "source": [
    "strSalida = ''\n",
    "for i in range(0,10):\n",
    "    alLetra = random.randint(0,len(listaL)-1)\n",
    "    alNum = random.randint(0,len(listaN)-1)\n",
    "    strSalida = strSalida + listaL[alLetra]\n",
    "        \n",
    "strSalida"
   ]
  },
  {
   "cell_type": "code",
   "execution_count": 109,
   "metadata": {},
   "outputs": [
    {
     "name": "stdout",
     "output_type": "stream",
     "text": [
      "El Campo NO es valida.\n",
      "Termino el programa\n"
     ]
    }
   ],
   "source": [
    "def validarRegex (codStr):\n",
    "    patron ='^[A-Z]([0-9]|[A-Z]){13}$'\n",
    "    x =  re.search(patron, codStr)\n",
    "    \n",
    "    if(x):\n",
    "        valCod = True\n",
    "    else:\n",
    "        valCod = False\n",
    "\n",
    "\n",
    "try:\n",
    "    validacion = validarRegex (codStr)\n",
    "\n",
    "\n",
    "    if(validacion == True):\n",
    "        print(\"El Campo es valido.\")\n",
    "    else:\n",
    "        print(\"El Campo NO es valida.\")\n",
    "except Exception as ex:\n",
    "    print(\"Error en los datos \")\n",
    "    print(ex)\n",
    "finally:\n",
    "    print(\"Termino el programa\")"
   ]
  },
  {
   "cell_type": "code",
   "execution_count": 14,
   "metadata": {},
   "outputs": [
    {
     "name": "stdout",
     "output_type": "stream",
     "text": [
      "['J', 'Z', 'K', 'U', 'T', 'P', 'F']\n",
      "[5, 6, 9, 4, 3, 2, 0]\n",
      "['5', '6', '9', '4', '3', '2', '0']\n",
      "29\n",
      "True\n",
      "['J', '5', 'Z', '6', 'K', '9', 'U', '4', 'T', '3', 'P', '2', 'F', '0']\n",
      "J5Z6K9U4T3P2F0\n",
      "True\n",
      "['J5Z6K9U4T3P2F0']\n",
      "[29]\n"
     ]
    }
   ],
   "source": [
    "## Creacion de lista Letras\n",
    "letras = ['A','B','C','D','E','F','G','H','I','J','K','L','M','N','Ñ','O','P','Q','R','S','T','U','V','W','X','Y','Z']\n",
    "listaL = rd.sample(letras,7)\n",
    "\n",
    "print(listaL)\n",
    "\n",
    "## Creacion de lista Numeros\n",
    "listaN = [rd.randint(0,9) for _ in range(7)]\n",
    "print(listaN)\n",
    "listaStr = [str(n) for n in listaN]\n",
    "\n",
    "print(listaStr)\n",
    "\n",
    "## Suma de Numeros\n",
    "\n",
    "suma = 0\n",
    "for n in listaN:\n",
    "    suma += n\n",
    "print(suma)\n",
    "\n",
    "## Validacion de numeros menor a 30\n",
    "\n",
    "if(suma <= 30):\n",
    "        valSuma = True\n",
    "else:\n",
    "    valSuma = False\n",
    "\n",
    "print(valSuma)\n",
    "\n",
    "## Integracion de listas Letras y Numeros\n",
    "listaL.extend(listaStr)\n",
    "listaL\n",
    "\n",
    "## Creación de Código\n",
    "listaNueva = []\n",
    "codStr = ''\n",
    "for i in range(0,7):\n",
    "    if(i <= 7):\n",
    "        listaNueva.append(listaL[i])\n",
    "    if(i <= 7):\n",
    "        listaNueva.append(listaStr[i])\n",
    "print(listaNueva)\n",
    "\n",
    "codStr = ''.join(listaNueva)\n",
    "print(codStr)\n",
    "\n",
    "## Validacion de Codigo\n",
    "\n",
    "patron ='^([A-Z][0-9]){7}$'\n",
    "x =  re.search(patron, codStr)\n",
    "\n",
    "if(x):\n",
    "    valCod = True\n",
    "else:\n",
    "    valCod = False\n",
    "print(valCod)\n",
    "\n",
    "## Creacion de lista Codigo y Letras\n",
    "listaCod = []\n",
    "listaSum = []\n",
    "\n",
    "listaCod.append(str(codStr))\n",
    "listaSum.append(suma)\n",
    "\n",
    "print(listaCod)\n",
    "print(listaSum)\n"
   ]
  },
  {
   "cell_type": "code",
   "execution_count": 5,
   "metadata": {},
   "outputs": [
    {
     "name": "stdout",
     "output_type": "stream",
     "text": [
      "['Z', 'I', 'F', 'T', 'C', 'U', 'H']\n",
      "[4, 1, 9, 5, 3, 6, 9]\n",
      "['4', '1', '9', '5', '3', '6', '9']\n",
      "37\n",
      "False\n",
      "Z31396F5U4H469\n",
      "True\n",
      "['H', 'Q', 'Ñ', 'I', 'O', 'N', 'Z']\n",
      "[8, 8, 1, 0, 0, 7, 3]\n",
      "['8', '8', '1', '0', '0', '7', '3']\n",
      "27\n",
      "True\n",
      "N83000N003H878\n",
      "True\n",
      "['N83000N003H878']\n",
      "[27]\n",
      "{27: 'N83000N003H878'}\n",
      "['Z31396F5U4H469']\n",
      "[37]\n"
     ]
    }
   ],
   "source": [
    "## Creacion de lista Codigo y Suma Validos\n",
    "listaCodV = []\n",
    "listaSumV = []\n",
    "## Creacion de lista Codigo y Suma  NO Validos\n",
    "listaCodNV = []\n",
    "listaSumNV = []\n",
    "\n",
    "## Creacion de diccionario\n",
    "dicVal = dict()\n",
    "    \n",
    "while((valSuma == True) or (valCod == True)):\n",
    "    ## Creacion de lista Letras\n",
    "    letras = ['A','B','C','D','E','F','G','H','I','J','K','L','M','N','Ñ','O','P','Q','R','S','T','U','V','W','X','Y','Z']\n",
    "    listaL = rd.sample(letras,7)\n",
    "    \n",
    "    print(listaL)\n",
    "    \n",
    "    ## Creacion de lista Numeros\n",
    "    listaN = [rd.randint(0,9) for _ in range(7)]\n",
    "    print(listaN)\n",
    "    listaStr = [str(n) for n in listaN]\n",
    "    print(listaStr)\n",
    "    \n",
    "    ## Suma de Numeros\n",
    "    suma = 0\n",
    "    for n in listaN:\n",
    "        suma += n\n",
    "    print(suma)\n",
    "    \n",
    "    ## Validacion de numeros menor a 30\n",
    "    \n",
    "    if(suma <= 30):\n",
    "        valSuma = True\n",
    "    else:\n",
    "        valSuma = False\n",
    "    \n",
    "    print(valSuma)\n",
    "    \n",
    "    ## Integracion de listas Letras y Numeros\n",
    "    listaL.extend(listaStr)\n",
    "    listaL\n",
    "\n",
    "    ## Creación de Código\n",
    "    codStr = ''\n",
    "    for i in range(0,7):\n",
    "        alLetra = rd.randint(0,len(listaL)-1)\n",
    "        alNum = rd.randint(0,len(listaStr)-1)\n",
    "        codStr = codStr + listaL[alLetra]\n",
    "        codStr = codStr + listaStr[alNum]\n",
    "    print(codStr)\n",
    "\n",
    "    ## Validacion de Codigo\n",
    "\n",
    "    patron ='^[A-Z]([0-9]|[A-Z]){13}$'\n",
    "    x =  re.search(patron, codStr)\n",
    "\n",
    "    if(x):\n",
    "        valCod = True\n",
    "    else:\n",
    "        valCod = False\n",
    "    print(valCod)\n",
    "   \n",
    "    if((valSuma == False) or (valCod == False)):\n",
    "        valSuma = True\n",
    "        valCod = True\n",
    "        listaCodNV.append(str(codStr))\n",
    "        listaSumNV.append(suma)\n",
    "    else:\n",
    "        listaCodV.append(str(codStr))\n",
    "        listaSumV.append(suma)\n",
    "        \n",
    "        ## Creacion de Diccionario\n",
    "        for i in range(len(listaSumV)):\n",
    "            dicVal[listaSumV[i]] = listaCodV[i]\n",
    "        \n",
    "        print(listaCodV)\n",
    "        print(listaSumV)\n",
    "        print(dicVal)\n",
    "        print(listaCodNV)\n",
    "        print(listaSumNV)\n",
    "        break"
   ]
  },
  {
   "cell_type": "code",
   "execution_count": null,
   "metadata": {},
   "outputs": [],
   "source": []
  }
 ],
 "metadata": {
  "kernelspec": {
   "display_name": "Python 3",
   "language": "python",
   "name": "python3"
  },
  "language_info": {
   "codemirror_mode": {
    "name": "ipython",
    "version": 3
   },
   "file_extension": ".py",
   "mimetype": "text/x-python",
   "name": "python",
   "nbconvert_exporter": "python",
   "pygments_lexer": "ipython3",
   "version": "3.8.5"
  }
 },
 "nbformat": 4,
 "nbformat_minor": 4
}
